{
 "cells": [
  {
   "cell_type": "markdown",
   "metadata": {},
   "source": [
    "# Basics of Precise Radial Velocities, and Performing CCF\n",
    "\n",
    "Created by Sharon Xuesong Wang, August 9, 2019\n",
    "Written by Sharon Xuesong Wang and Tianjun Gan\n",
    "\n",
    "This is a tutorial for getting to know the basics of precise radial velocities, such as how to get RV using the CCF method, the correlation of RV precision vs. resolution and SNR, and so on."
   ]
  },
  {
   "cell_type": "code",
   "execution_count": 1,
   "metadata": {},
   "outputs": [],
   "source": [
    "# import the necessary packages\n",
    "import numpy as np\n",
    "from scipy import interpolate\n",
    "import matplotlib.pyplot as plt\n",
    "import os\n",
    "import matplotlib.gridspec as gridspec\n",
    "from scipy import interpolate\n",
    "from scipy.optimize import fmin\n",
    "import emcee\n",
    "import corner\n",
    "%matplotlib inline "
   ]
  },
  {
   "cell_type": "markdown",
   "metadata": {},
   "source": [
    "## Doppler Shifting a Spectrum\n",
    "\n",
    "Let's start with getting a 5 Angstrom chunk of synthetic solar spectrum, which is about the length of a spectral order, and manipulate it to get ourselves familiar with Doppler-shifting a spectrum."
   ]
  },
  {
   "cell_type": "markdown",
   "metadata": {},
   "source": [
    "Read in the synthetic solar spectrum here:"
   ]
  },
  {
   "cell_type": "code",
   "execution_count": null,
   "metadata": {
    "collapsed": true
   },
   "outputs": [],
   "source": [
    "os.chdir('../synspec')\n",
    "specdata=np.load('Kurucz_Sun.npz')\n",
    "wavelength=specdata['arr_0']\n",
    "flux=specdata['arr_1']"
   ]
  },
  {
   "cell_type": "markdown",
   "metadata": {},
   "source": [
    "Grab a chunk between 5200 and 5205 Angstroms, which is the richest region in terms of Doppler information in the Sun.\n",
    "\n",
    "We will come back to the point of \"Doppler information\" later."
   ]
  },
  {
   "cell_type": "code",
   "execution_count": null,
   "metadata": {
    "collapsed": true
   },
   "outputs": [],
   "source": [
    "w_chunk=wavelength[(wavelength>=520) & (wavelength<=520.5)]\n",
    "f=flux[(wavelength>=520) & (wavelength<=520.5)]"
   ]
  },
  {
   "cell_type": "markdown",
   "metadata": {},
   "source": [
    "Now, Doppler shift this chunk of spectrum by 27201 m/s.\n",
    "\n",
    "**Convention of Doppler Shift**: This is a positive number, which means the source is redshifted relative to the observatory frame. The convention is that a blueshift, or object moving towards the observer, will have a negative redshift (thus negative RV).\n",
    "\n",
    "Why such a large number? The Earth is going around the Sun at ~30 km/s, so any stellar spectrum you see will have\n",
    "a relative Doppler shift from this motion from its spectrum taken at another epoch. This is called the barycentric (BC) shift. For stars near the celestial equator, for example, the BC shift will swing a full span of from -30 km/s to 30 km/s over the course of a year.\n",
    "\n",
    "Important points when you are doing a Doppler shift:\n",
    "\n",
    "- Don't forget to define the speed of light! And do it very very precisely! Do not use $3 \\times 10^8$ m/s.\n",
    "- A Doppler shift is not linear in wavelength space - you do not add a number. It's like a stretch. You stretch the wavelength array $w$ by doing $w\\times (1+z)$."
   ]
  },
  {
   "cell_type": "code",
   "execution_count": null,
   "metadata": {
    "collapsed": true
   },
   "outputs": [],
   "source": [
    "c=2.99792458E8 #light speed in m/s\n",
    "v_rad=27201    #m/s\n",
    "z=v_rad/c\n",
    "z_correct=z\n",
    "w_observed=w_chunk*(1+z)"
   ]
  },
  {
   "cell_type": "markdown",
   "metadata": {},
   "source": [
    "Plot the original spectrum and the shifted one next to each other."
   ]
  },
  {
   "cell_type": "code",
   "execution_count": null,
   "metadata": {
    "collapsed": true
   },
   "outputs": [],
   "source": [
    "fig = plt.figure(figsize=(24,8))\n",
    "gs = gridspec.GridSpec(1, 3)\n",
    "ax1 = plt.subplot(gs[0, 0])\n",
    "ax2 = plt.subplot(gs[0, 1])\n",
    "ax3 = plt.subplot(gs[0, 2])\n",
    "ax1.plot(w_chunk,f,'k-')\n",
    "ax2.plot(w_observed, f,'k-')\n",
    "ax3.plot(w_chunk,f,'b-')\n",
    "ax3.plot(w_observed, f,'r-')\n",
    "ax3.legend(['Template','Observed'])\n",
    "ax1.set_xlabel('$\\lambda_{chunk}$')\n",
    "ax2.set_xlabel('$\\lambda_{observed}$')\n",
    "ax3.set_xlabel('$\\lambda$')\n",
    "ax1.set_ylabel('flux')\n",
    "plt.show()"
   ]
  },
  {
   "cell_type": "markdown",
   "metadata": {},
   "source": [
    "## Simplest CCF\n",
    "\n",
    "Now, the shifted spectrum is your \"observed\" spectrum. Our next task would be to try to get the RV of this observed spectrum with CCF using the \"stellar template\", which is the original spectrum before the shift (note: this stellar template has a wider wavelength span than your order of shifted spectrum, so we don't have to worry about edge effects). \n",
    "\n",
    "Note: Some people use a mask instead of a stellar template (Baranne et al. 1996) then fit a Gaussian to the CCF - it's mathematically equivalent with using a spectrum (with a Gaussian line profile) to perform the CCF and obtain the minima/maxima of the CCF (credit: David Hogg).\n",
    "\n",
    "Our eventual goal is to obtain the CCF as a function of redshift $z$, and then find the minima of the CCF, which would be your reported $z$. **Important**: You have to fit the redsfhit $z$ instead of the RV! This is because **$z$ is what you are actually measuring, not the relative RV** between your stellar template and your observed template. To translate $z$ into RV, you need to perform the barycentric correction, which involves relativistic terms so a simple $z = RV/c$ does not work."
   ]
  },
  {
   "cell_type": "markdown",
   "metadata": {},
   "source": [
    "The first thing is to create an array of $z$ values. Think carefully about what min and max values should you give this array of $z$ when it comes to real observations."
   ]
  },
  {
   "cell_type": "code",
   "execution_count": null,
   "metadata": {
    "collapsed": true
   },
   "outputs": [],
   "source": [
    "#For z, at first I chose -(3E4)/c ~ (3E4)/c only consider about the BC shift\n",
    "z_max=(3E4)/c\n",
    "z_min=(-3E4)/c\n",
    "print(z_max)\n",
    "print(z_min)\n",
    "z_list=np.linspace(z_min,z_max,200)"
   ]
  },
  {
   "cell_type": "markdown",
   "metadata": {},
   "source": [
    "Next, for each $z$ value, you would need to shift your stellar template spectrum to this $z$, and then you want to interpolate your spectrum so that it is evaluated at the same array of wavelenghs as your observed spectrum in order to perform CCF (i.e., same abscissa). Write a function to perform this shift and interpolation.\n",
    "\n",
    "Make sure to use cubic spline interpolation, not linear.\n",
    "\n",
    "In fact, neither cubic spline nor linear interpolation conserves flux and therefore Doppler shift. At the sampling rate of our synthetic spectrum, cubic spline does a good enough job that we can ignore this. Very often, when you are working with spectrum with relatively low sampling, you want to up-sample your spectrum first before doing interpolation. Let's don't worry about it right now."
   ]
  },
  {
   "cell_type": "code",
   "execution_count": null,
   "metadata": {
    "collapsed": true
   },
   "outputs": [],
   "source": [
    "def spec_interpolation(z,w1,flux,w2):   #w1:template wavelength, w2:predicted wavelength\n",
    "    w1_correction=w1*(1+z)\n",
    "    f = interpolate.interp1d(w1_correction,flux,kind='cubic')\n",
    "    #f = interpolate.interp1d(w1_correction,flux)\n",
    "    flux_pred = f(w2)\n",
    "    return flux_pred"
   ]
  },
  {
   "cell_type": "markdown",
   "metadata": {},
   "source": [
    "Check your shift+interpolation function out by plotting a zoomed in chunk of spectrum before and after the operation."
   ]
  },
  {
   "cell_type": "code",
   "execution_count": null,
   "metadata": {
    "collapsed": true
   },
   "outputs": [],
   "source": [
    "#Example#\n",
    "z_example= 9E-5\n",
    "w_template=wavelength[(wavelength>519.8) & (wavelength<520.6)]\n",
    "f_template=flux[(wavelength>519.8) & (wavelength<520.6)]\n",
    "#print(w_template)\n",
    "#print(w_emitted)\n",
    "#exit()\n",
    "flux_pred = spec_interpolation(z_example,w_template,f_template,w_observed)\n",
    "plt.figure()\n",
    "plt.plot(wavelength,flux)\n",
    "plt.plot(w_observed,flux_pred)\n",
    "plt.legend(['Template','Observed'])\n",
    "plt.scatter(w_observed,flux_pred,color='red',marker='.')\n",
    "plt.xlim(519.95,520.46)\n",
    "plt.xlabel('$\\lambda$')\n",
    "plt.ylabel('flux')\n",
    "plt.show()"
   ]
  },
  {
   "cell_type": "markdown",
   "metadata": {},
   "source": [
    "Now, write a loop to evaluate the CCF at every $z$ value in your $z$ array.\n",
    "\n",
    "**Important Caution**: Some people like to use the simpler version of CCF, which is $\\sum{s*f}$, where $s$ and $f$ are the two functions you are performing CCF on. However, this is wrong in our context. The formal CCF is really $\\sum{(s-f)^2}$, and when you have a constant $\\sum{s^2}$ and $\\sum{f^2}$, you can just use the cross term. However, this is not true in our case! When we are shifting the stellar template spectrum around within the wavelength window of the observed spectrum, on the edge, some portion will be shifted in and out. So your template spectrum $s$ actually changes every time you use a different $z$, so $\\sum{s^2}$ is not constant! "
   ]
  },
  {
   "cell_type": "code",
   "execution_count": null,
   "metadata": {
    "collapsed": true
   },
   "outputs": [],
   "source": [
    "ccf_list=[]\n",
    "for z in z_list:\n",
    "    CCF = np.sum((spec_interpolation(z,w_template,f_template,w_observed)-f)**2)\n",
    "    ccf_list=np.append(ccf_list,[CCF],axis=0)\n",
    "    #print(CCF)"
   ]
  },
  {
   "cell_type": "markdown",
   "metadata": {},
   "source": [
    "Plot your CCF vs. z."
   ]
  },
  {
   "cell_type": "code",
   "execution_count": null,
   "metadata": {
    "collapsed": true
   },
   "outputs": [],
   "source": [
    "fig = plt.figure(figsize=(16,8))\n",
    "gs = gridspec.GridSpec(1, 2)\n",
    "ax1 = plt.subplot(gs[0, 0])\n",
    "ax2 = plt.subplot(gs[0, 1])\n",
    "ax1.plot(z_list,ccf_list)\n",
    "ax2.plot(z_list[(z_list<10E-5) & (z_list>0)],ccf_list[(z_list<10E-5) & (z_list>0)])\n",
    "plt.show()"
   ]
  },
  {
   "cell_type": "markdown",
   "metadata": {},
   "source": [
    "Write a function to find the minima of your CCF robustly."
   ]
  },
  {
   "cell_type": "code",
   "execution_count": null,
   "metadata": {
    "collapsed": true
   },
   "outputs": [],
   "source": [
    "z_chosen=z_list[(z_list<10E-5) & (z_list>-1E-5)]\n",
    "ccf_chosen=ccf_list[(z_list<10E-5) & (z_list>-1E-5)]\n",
    "\n",
    "#fmin#\n",
    "\n",
    "def ccf_fit(z,p):\n",
    "    u,sigma,c,k = p\n",
    "    return k-c*np.exp(-(z-u)**2/(sigma**2))\n",
    "\n",
    "def residuals(p,z,f):\n",
    "    return np.sum((f-ccf_fit(z,p))**2)\n",
    "\n",
    "iniparam0=[9E-5,1E-5,10,40]\n",
    "parambest,chi2min,iter,funcalls,warnflag,allvecs = fmin(residuals,iniparam0,args=(z_chosen,ccf_chosen),full_output=True,retall=True,maxiter=300,maxfun=1000)\n",
    "print(parambest)\n",
    "\n",
    "plt.figure()\n",
    "plt.plot(z_chosen,ccf_chosen,'.')\n",
    "plt.plot(z_chosen,ccf_fit(z_chosen,parambest),'r-')\n",
    "plt.show()"
   ]
  },
  {
   "cell_type": "markdown",
   "metadata": {},
   "source": [
    "Now you have a measured z! Is it correct?"
   ]
  },
  {
   "cell_type": "code",
   "execution_count": null,
   "metadata": {
    "collapsed": true
   },
   "outputs": [],
   "source": [
    "#fitting result#\n",
    "print (\"z_fitted=%s\"%(parambest[0]))\n",
    "print (\"z_correct=%s\"%(z))"
   ]
  }
 ],
 "metadata": {
  "anaconda-cloud": {},
  "kernelspec": {
   "display_name": "Python 2",
   "language": "python",
   "name": "python2"
  },
  "language_info": {
   "codemirror_mode": {
    "name": "ipython",
    "version": 2
   },
   "file_extension": ".py",
   "mimetype": "text/x-python",
   "name": "python",
   "nbconvert_exporter": "python",
   "pygments_lexer": "ipython2",
   "version": "2.7.12"
  }
 },
 "nbformat": 4,
 "nbformat_minor": 1
}
